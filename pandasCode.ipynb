{
 "cells": [
  {
   "cell_type": "code",
   "execution_count": null,
   "metadata": {},
   "outputs": [],
   "source": [
    "import pandas as pd"
   ]
  },
  {
   "cell_type": "code",
   "execution_count": null,
   "metadata": {},
   "outputs": [],
   "source": [
    "df = pd.read_excel('/Users/mobin/Documents/projects/bama-cars.xlsx', 'welcome')"
   ]
  },
  {
   "cell_type": "code",
   "execution_count": null,
   "metadata": {},
   "outputs": [],
   "source": [
    "hyundai = df[(df['company'] == 'hyundai')] # Q1\n",
    "uni_hy = hyundai['car'].unique() \n",
    "peugeot = df[(df['company'] == 'peugeot')] # Q1\n",
    "uni_peu = peugeot['car'].unique() \n",
    "ans1 = uni_peu + uni_hy # Q1"
   ]
  },
  {
   "cell_type": "code",
   "execution_count": null,
   "metadata": {},
   "outputs": [],
   "source": [
    "five_year_1 = df[(df['year'] > 2016)] # Q2\n",
    "five_year_2 = df[(df['year'] >= 1395) & (df['year'] < 1401)] # Q2"
   ]
  },
  {
   "cell_type": "code",
   "execution_count": null,
   "metadata": {},
   "outputs": [],
   "source": [
    "peugeot_206SD = df[(df['car'] == '206sd')] # Q3\n",
    "peugeot_206SD\n",
    "peugeot_206SD.tream.describe()"
   ]
  },
  {
   "cell_type": "code",
   "execution_count": null,
   "metadata": {},
   "outputs": [],
   "source": [
    "# Q4\n",
    "d1 = df[(df['year'] > 1400)]\n",
    "d2 = df[(df['year'] <= 1400)]\n",
    "d1['karkard'] = d1['kilometer'] / (2022 - d1['year'])\n",
    "d2['karkard'] = d2['kilometer'] / (1401 - d2['year'])\n",
    "d1[(d1['karkard'] == d1.karkard.max())] # Q4\n",
    "d2[(d2['karkard'] == d2.karkard.max())] # Q4\n",
    "d2.sort_values('karkard') # Q4"
   ]
  },
  {
   "cell_type": "code",
   "execution_count": null,
   "metadata": {},
   "outputs": [],
   "source": [
    "price_df = df[(df['price'] > 0)] # Q5\n",
    "means_df = price_df.groupby(['company']).mean().sort_values('price')\n",
    "means_df[(means_df['price'] == means_df.price.max())]"
   ]
  },
  {
   "cell_type": "code",
   "execution_count": null,
   "metadata": {},
   "outputs": [],
   "source": [
    "df.describe(include='object') # Q6"
   ]
  },
  {
   "cell_type": "code",
   "execution_count": null,
   "metadata": {},
   "outputs": [],
   "source": [
    "peugeot_206_1 = df[(df['car'] == '206') & (df['year'] >= 1385) & (df['year'] <= 1392) & (df['price'] > 0)] # Q7\n",
    "mean1 = peugeot_206_1.price.mean()\n",
    "peugeot_206_2 = df[(df['car'] == '206') & (df['year'] >= 1393) & (df['year'] <= 1400) & (df['price'] > 0)] # Q7\n",
    "mean2 = peugeot_206_2.price.mean()\n",
    "ans7 = mean2 - mean1 # Q7"
   ]
  }
 ],
 "metadata": {
  "language_info": {
   "name": "python"
  }
 },
 "nbformat": 4,
 "nbformat_minor": 2
}
